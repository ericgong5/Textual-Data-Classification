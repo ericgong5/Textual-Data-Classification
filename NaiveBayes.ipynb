{
  "nbformat": 4,
  "nbformat_minor": 0,
  "metadata": {
    "colab": {
      "provenance": []
    },
    "kernelspec": {
      "name": "python3",
      "display_name": "Python 3"
    },
    "language_info": {
      "name": "python"
    }
  },
  "cells": [
    {
      "cell_type": "markdown",
      "source": [
        "# 1. Acquire and preprocess the IMDB"
      ],
      "metadata": {
        "id": "4IVu0B0VWx2j"
      }
    },
    {
      "cell_type": "code",
      "source": [
        "\n",
        "import pandas as pd\n",
        "import numpy as np\n",
        "import os\n",
        "import string\n",
        "from sklearn.feature_extraction.text import CountVectorizer\n",
        "import matplotlib.pyplot as plt\n",
        "\n",
        "# Set the seed for reproducibility (initializes the random number generator)\n",
        "np.random.seed(500)\n",
        "     "
      ],
      "metadata": {
        "id": "5k4a1GbjfSKN"
      },
      "execution_count": null,
      "outputs": []
    },
    {
      "cell_type": "markdown",
      "source": [
        "## 1.1 Download tar.gz and Some Preprocessing"
      ],
      "metadata": {
        "id": "BV_LYvPfXIiu"
      }
    },
    {
      "cell_type": "markdown",
      "source": [
        "### 1.1.1 Download and Unzip"
      ],
      "metadata": {
        "id": "b40_pXM3eDqZ"
      }
    },
    {
      "cell_type": "code",
      "execution_count": null,
      "metadata": {
        "id": "xkxn4QN9WU9E",
        "colab": {
          "base_uri": "https://localhost:8080/"
        },
        "outputId": "45dacc24-6028-432a-ee96-cd2660d9a1a4"
      },
      "outputs": [
        {
          "output_type": "stream",
          "name": "stdout",
          "text": [
            "\u001b[1;30;43mStreaming output truncated to the last 5 lines.\u001b[0m\n",
            "aclImdb/train/unsup/49925_0.txt\n",
            "aclImdb/train/unsup/49924_0.txt\n",
            "aclImdb/train/unsup/49923_0.txt\n",
            "aclImdb/train/unsup/49922_0.txt\n",
            "aclImdb/train/unsup/49921_0.txt\n",
            "aclImdb/train/unsup/49920_0.txt\n"
          ]
        }
      ],
      "source": [
        "!wget \"http://ai.stanford.edu/~amaas/data/sentiment/aclImdb_v1.tar.gz\"\n",
        "!tar -xzvf \"aclImdb_v1.tar.gz\" \"\"\n",
        "\n",
        "\n"
      ]
    },
    {
      "cell_type": "markdown",
      "source": [
        "### 1.1.2 More Preprocessing\n"
      ],
      "metadata": {
        "id": "fmpWmZpTd91p"
      }
    },
    {
      "cell_type": "code",
      "source": [
        "import re\n",
        "import string\n",
        "import nltk\n",
        "from nltk import pos_tag, word_tokenize          \n",
        "from nltk.corpus import stopwords\n",
        "from nltk.stem import PorterStemmer, WordNetLemmatizer\n",
        "from nltk.tokenize import RegexpTokenizer\n",
        "\n",
        "nltk.download('stopwords')\n",
        "nltk.download('wordnet')\n",
        "nltk.download('averaged_perceptron_tagger')\n",
        "\n",
        "tokenizer = RegexpTokenizer(r'\\w+')\n",
        "lemmatizer = WordNetLemmatizer()\n",
        "stemmer = PorterStemmer()\n",
        "stop_words = stopwords.words('english')\n",
        "     \n",
        "\n",
        "# Lemmatize and Tokenize\n",
        "def lemmatize_text(text):\n",
        "    return ' '.join([lemmatizer.lemmatize(word) for word in tokenizer.tokenize(text.lower())])\n",
        "\n",
        "# Remove stopwords\n",
        "def remove_stopwords(text):\n",
        "  return ' '.join([word for word in text.split() if word not in (stop_words)])\n",
        "\n",
        "# Remove numbers\n",
        "alphanumeric = lambda x: re.sub(r\"\"\"\\w*\\d\\w*\"\"\", ' ', x)\n",
        "strip = lambda x: \" \".join(str.rsplit(x))\n",
        "\n",
        "# Remove punctuations\n",
        "def remove_punctuations(text):\n",
        "    for punctuation in string.punctuation:\n",
        "        text = text.replace(punctuation, '')\n",
        "    return text"
      ],
      "metadata": {
        "colab": {
          "base_uri": "https://localhost:8080/"
        },
        "id": "lnlagMmLO_9A",
        "outputId": "4e058ae8-93a9-450e-bfb1-6537a7e59d70"
      },
      "execution_count": null,
      "outputs": [
        {
          "output_type": "stream",
          "name": "stderr",
          "text": [
            "[nltk_data] Downloading package stopwords to /root/nltk_data...\n",
            "[nltk_data]   Package stopwords is already up-to-date!\n",
            "[nltk_data] Downloading package wordnet to /root/nltk_data...\n",
            "[nltk_data]   Package wordnet is already up-to-date!\n",
            "[nltk_data] Downloading package averaged_perceptron_tagger to\n",
            "[nltk_data]     /root/nltk_data...\n",
            "[nltk_data]   Package averaged_perceptron_tagger is already up-to-\n",
            "[nltk_data]       date!\n"
          ]
        }
      ]
    },
    {
      "cell_type": "markdown",
      "source": [
        "### Preprocessing Training Comments\n",
        "\n",
        "Here we remove useless words, punctuation, numbers, etc"
      ],
      "metadata": {
        "id": "4hwmJH6TPBjQ"
      }
    },
    {
      "cell_type": "code",
      "source": [
        "# convert for preprocessing\n",
        "\n",
        "wordCountTrainingPosPre = 0\n",
        "wordCountTrainingNegPre = 0\n",
        "\n",
        "wordCountTrainingPosPost = 0\n",
        "wordCountTrainingNegPost = 0\n",
        "\n",
        "wordCountTestingPosPre = 0\n",
        "wordCountTestingNegPre = 0\n",
        "\n",
        "wordCountTestingPosPost = 0\n",
        "wordCountTestingNegPost = 0\n",
        "\n",
        "neg_train_comments = []\n",
        "\n",
        "for commentFile in os.listdir(\"/content/aclImdb/train/neg\"):\n",
        "# for testes in os.listdir(os.getcwd()):\n",
        "\n",
        "  with open(\"/content/aclImdb/train/neg/\" + commentFile, \"r\") as f:\n",
        "    \n",
        "    for line in f:\n",
        "\n",
        "      wordCountTrainingNegPre += len(line.split())\n",
        "\n",
        "      line = lemmatize_text(line)\n",
        "      line = remove_stopwords(line)\n",
        "      line = alphanumeric(line)\n",
        "      line = strip(line)\n",
        "\n",
        "      wordCountTrainingNegPost += len(line.split())\n",
        "\n",
        "      neg_train_comments.append(remove_punctuations(line))\n",
        "\n",
        "\n",
        "pos_train_comments = []\n",
        "\n",
        "for commentFile in os.listdir(\"/content/aclImdb/train/pos\"):\n",
        "# for testes in os.listdir(os.getcwd()):\n",
        "\n",
        "  with open(\"/content/aclImdb/train/pos/\" + commentFile, \"r\") as f:\n",
        "\n",
        "    for line in f:\n",
        "\n",
        "      wordCountTrainingPosPre += len(line.split())\n",
        "\n",
        "      line = lemmatize_text(line)\n",
        "      line = remove_stopwords(line)\n",
        "      line = alphanumeric(line)\n",
        "      line = strip(line)\n",
        "\n",
        "      wordCountTrainingPosPost += len(line.split())\n",
        "\n",
        "      pos_train_comments.append(remove_punctuations(line))\n",
        "\n",
        "\n",
        "print(\"=====================Negative Training Comment Sample====================\")\n",
        "print(neg_train_comments[0:2])\n",
        "\n",
        "print(\"=====================Positive Training Comment Sample====================\")\n",
        "print(pos_train_comments[0:2])\n"
      ],
      "metadata": {
        "colab": {
          "base_uri": "https://localhost:8080/"
        },
        "id": "UKvmH_lueu-q",
        "outputId": "9cec855f-5331-490f-9234-942f070be885"
      },
      "execution_count": null,
      "outputs": [
        {
          "output_type": "stream",
          "name": "stdout",
          "text": [
            "=====================Negative Training Comment Sample====================\n",
            "['possibly worst fencing sword fighting movie ever made called sport fencing poor plot character weak got throw semi nude sex scene later supposed group dancing around fencing scene fencing club trying suppose maintain audience interest waste f murray abraham talent better served overblown swashbuckling movie like zorro scaramouche anything ha basil rathbone villain fencer recognize near impossibility capturing fencing sport film ever happens got fresher better drawn character plot depth', 'expect script begin therefore nothing director work hayek farrell donaldson kirkin good actor anything say anything react even earthquake wa pretty poor know closely movie follows novel two jewish girl show nowhere show arturo ha nice warm heart stereotype amount anything even buries camilla desert instead bringing back l nice catholic burial could least bring flower pathetic l set wa ridiculously graphically created anything good window apartment felt real curtain sound wind donaldson always great ha since body snatcher night living dead whichever wa']\n",
            "=====================Positive Training Comment Sample====================\n",
            "['film start slowly lifestyle wallace napalm attendant photo service drop station wife ha restricted home ankle bracelet result sentence arson wallace member volunteer fire department take firefighting seriously br br watch wallace rather dull life proceeding suddenly come something new jarring traveling carnival come town one star wilder napalm wallace brother clown ha special talent br br doe wallace pyrokineticists pyrotics people capable starting fire mental energy wallace keep power secret wilder let acquaintance know br br spoiler difference go back childhood incident inadvertently caused death vagrant wallace hold back using power wilder want go public national tv br br complicating matter wilder want wallace wife dated year earlier becomes bone contention becomes one reason brother finally literal firefight br br film entertaining laugh loud funny think enough copy library good offbeat film', 'first saw movie wa year old unfortunately could watch end wa aired late night bought dvd remember liked br br really ordinary horror movie ha horror element rather categorize fantasy liked hoped bit horror scary scene especially scene anna dad come paperhouse trying kill bit short br br plot movie young girl named anna get ill ill ha lie bed high fewer turn finishing drawing house paperhouse fell sleep often strangely happens immediately find near house big green field realizes house exactly like one ha drawn every new detail also appears dream one day draw boy house somebody talk forgets draw leg sitting behind window boy cannot walk later told doctor boy also ha strange disease realizes boy ha drawn also got boy disturbing dream also notice get harder harder wake dream miss father ofter abroad draw father house make mistake father looking angry painting try rubber realizes cannot change anything already drawn next time fall asleep horror begin father mad blind draw head mark invalid try get paperhouse kill anna friend dream became horrendous nightmare manage escape kill father anna finally wake anna find self hospital parent sitting beside bed doctor thought fell coma tell anna boy died want travel ocean get tragical happening anna draw watchtower notice watchtower found near hotel traveled run watchtower meet boy mentioning name cannot remember want go back previous html page say good bye forget terrible dream forever br br thing understand movie first wa ending absolutely dislike think long main part movie becomes bit short doe boy fly helicopter speak anna supposed dead put stupid radio wall hated scene wa dumb almost ruined main horror scene br br thing liked scene photograph anna dad wa first real scary horror scene liked boy actor wa awesome wa even better anna also liked anna try get father painting asleep looking garbage br br overall good movie give']\n"
          ]
        }
      ]
    },
    {
      "cell_type": "markdown",
      "source": [
        "### Testing Comments\n",
        "\n",
        "Here we remove useless words, punctuation, numbers, etc"
      ],
      "metadata": {
        "id": "wPjk25dQNHs0"
      }
    },
    {
      "cell_type": "code",
      "source": [
        "# convert for preprocessing\n",
        "neg_test_comments = []\n",
        "\n",
        "for commentFile in os.listdir(\"/content/aclImdb/test/neg\"):\n",
        "# for testes in os.listdir(os.getcwd()):\n",
        "\n",
        "  with open(\"/content/aclImdb/test/neg/\" + commentFile, \"r\") as f:\n",
        "    \n",
        "    for line in f:\n",
        "      \n",
        "      wordCountTestingNegPre += len(line.split())\n",
        "\n",
        "      line = lemmatize_text(line)\n",
        "      line = remove_stopwords(line)\n",
        "      line = alphanumeric(line)\n",
        "      line = strip(line)\n",
        "\n",
        "      wordCountTestingNegPost += len(line.split())\n",
        "\n",
        "      neg_test_comments.append(remove_punctuations(line))\n",
        "\n",
        "\n",
        "pos_test_comments = []\n",
        "\n",
        "for commentFile in os.listdir(\"/content/aclImdb/test/pos\"):\n",
        "# for testes in os.listdir(os.getcwd()):\n",
        "\n",
        "  with open(\"/content/aclImdb/test/pos/\" + commentFile, \"r\") as f:\n",
        "\n",
        "    for line in f:\n",
        "\n",
        "      wordCountTestingPosPre += len(line.split())\n",
        "\n",
        "      line = lemmatize_text(line)\n",
        "      line = remove_stopwords(line)\n",
        "      line = alphanumeric(line)\n",
        "      line = strip(line) \n",
        "\n",
        "      wordCountTestingPosPost += len(line.split())\n",
        "\n",
        "      pos_test_comments.append(remove_punctuations(line))\n",
        "\n",
        "\n",
        "print(\"=====================Negative Testing Comment Sample====================\")\n",
        "print(neg_test_comments[0])\n",
        "\n",
        "print(\"=====================Positive Testing Comment Sample====================\")\n",
        "print(pos_test_comments[0])\n"
      ],
      "metadata": {
        "colab": {
          "base_uri": "https://localhost:8080/"
        },
        "id": "tiStCHS1NKZr",
        "outputId": "78145038-e0fd-43f6-e9a3-6cca2c14cb25"
      },
      "execution_count": null,
      "outputs": [
        {
          "output_type": "stream",
          "name": "stdout",
          "text": [
            "=====================Negative Testing Comment Sample====================\n",
            "one worst anime series ever seen watched manga review magazine thought wa maybe interesting got chapter realized wa complete stupidity br br ok first chapter ok series standard plot advance becomes totally incoherent series try show mystical based upon christian mythology total stupidity feature demon stigma scene totally nonsense seems series try seem deeply thought complex mythologically reviewed watcher bit brain cultural reference realize soon element used real sense put impress ignorant watcher br br final chapter full totally nonsense element battle cat eared demon reference supposed fight demon demon control time apparent reason final totally nonsense ignorant watcher see floating final give place meditate truth final complete series total incoherent incongruent nonsense\n",
            "=====================Positive Testing Comment Sample====================\n",
            "america multi cultural many sub culture movie simply tell story snapshot time within one sub culture basically objective look group forgotten people living life oblivious rest world generally good movie entertained provoked thought showed life would seen otherwise right back yard seen lived u life idea citizen know citizen movie help illustrate diversity country showing small part southern state obvious conclusion really real else know nothing\n"
          ]
        }
      ]
    },
    {
      "cell_type": "markdown",
      "source": [
        "## Converting to Dataframe"
      ],
      "metadata": {
        "id": "zthWshrCVkXq"
      }
    },
    {
      "cell_type": "code",
      "source": [
        "negTraining = {'polarity' : 0, 'comment' : neg_train_comments}\n",
        "\n",
        "training = pd.DataFrame(negTraining, columns=['polarity', 'comment']) \n",
        "\n",
        "posTraining = {'polarity' : 1, 'comment' : pos_train_comments}\n",
        "\n",
        "posTraining = pd.DataFrame(posTraining, columns=['polarity', 'comment']) \n",
        "\n",
        "training = pd.concat([posTraining, training])\n",
        "\n",
        "negTesting = {'polarity' : 0, 'comment' : neg_test_comments}\n",
        "\n",
        "testing = pd.DataFrame(negTesting, columns=['polarity', 'comment']) \n",
        "\n",
        "posTesting = {'polarity' : 1, 'comment' : pos_train_comments}\n",
        "\n",
        "posTesting = pd.DataFrame(posTesting, columns=['polarity', 'comment']) \n",
        "\n",
        "testing = pd.concat([posTesting, testing])\n",
        "\n",
        "\n",
        "\n",
        "training\n"
      ],
      "metadata": {
        "colab": {
          "base_uri": "https://localhost:8080/",
          "height": 424
        },
        "id": "M1a1cpBUVst8",
        "outputId": "190fd938-07fe-4190-d018-0dfb1a29f32e"
      },
      "execution_count": null,
      "outputs": [
        {
          "output_type": "execute_result",
          "data": {
            "text/plain": [
              "       polarity                                            comment\n",
              "0             1  film start slowly lifestyle wallace napalm att...\n",
              "1             1  first saw movie wa year old unfortunately coul...\n",
              "2             1  ha got best spy adventure series tv ever aired...\n",
              "3             1  beautiful film pure cassavetes style gena rowl...\n",
              "4             1  tom berenger put soul sgt barnes ha done thoma...\n",
              "...         ...                                                ...\n",
              "12495         0  carl panzram lived amazing life scribbled memo...\n",
              "12496         0  imagine looked forward king ant massive gordon...\n",
              "12497         0  group forest ranger scientist go wood find fos...\n",
              "12498         0  twentieth century fox made ton mr moto film ho...\n",
              "12499         0  domestic audience see would applaud movie outs...\n",
              "\n",
              "[25000 rows x 2 columns]"
            ],
            "text/html": [
              "\n",
              "  <div id=\"df-dce9a51c-4eec-454b-82fc-6c509fb2ec33\">\n",
              "    <div class=\"colab-df-container\">\n",
              "      <div>\n",
              "<style scoped>\n",
              "    .dataframe tbody tr th:only-of-type {\n",
              "        vertical-align: middle;\n",
              "    }\n",
              "\n",
              "    .dataframe tbody tr th {\n",
              "        vertical-align: top;\n",
              "    }\n",
              "\n",
              "    .dataframe thead th {\n",
              "        text-align: right;\n",
              "    }\n",
              "</style>\n",
              "<table border=\"1\" class=\"dataframe\">\n",
              "  <thead>\n",
              "    <tr style=\"text-align: right;\">\n",
              "      <th></th>\n",
              "      <th>polarity</th>\n",
              "      <th>comment</th>\n",
              "    </tr>\n",
              "  </thead>\n",
              "  <tbody>\n",
              "    <tr>\n",
              "      <th>0</th>\n",
              "      <td>1</td>\n",
              "      <td>film start slowly lifestyle wallace napalm att...</td>\n",
              "    </tr>\n",
              "    <tr>\n",
              "      <th>1</th>\n",
              "      <td>1</td>\n",
              "      <td>first saw movie wa year old unfortunately coul...</td>\n",
              "    </tr>\n",
              "    <tr>\n",
              "      <th>2</th>\n",
              "      <td>1</td>\n",
              "      <td>ha got best spy adventure series tv ever aired...</td>\n",
              "    </tr>\n",
              "    <tr>\n",
              "      <th>3</th>\n",
              "      <td>1</td>\n",
              "      <td>beautiful film pure cassavetes style gena rowl...</td>\n",
              "    </tr>\n",
              "    <tr>\n",
              "      <th>4</th>\n",
              "      <td>1</td>\n",
              "      <td>tom berenger put soul sgt barnes ha done thoma...</td>\n",
              "    </tr>\n",
              "    <tr>\n",
              "      <th>...</th>\n",
              "      <td>...</td>\n",
              "      <td>...</td>\n",
              "    </tr>\n",
              "    <tr>\n",
              "      <th>12495</th>\n",
              "      <td>0</td>\n",
              "      <td>carl panzram lived amazing life scribbled memo...</td>\n",
              "    </tr>\n",
              "    <tr>\n",
              "      <th>12496</th>\n",
              "      <td>0</td>\n",
              "      <td>imagine looked forward king ant massive gordon...</td>\n",
              "    </tr>\n",
              "    <tr>\n",
              "      <th>12497</th>\n",
              "      <td>0</td>\n",
              "      <td>group forest ranger scientist go wood find fos...</td>\n",
              "    </tr>\n",
              "    <tr>\n",
              "      <th>12498</th>\n",
              "      <td>0</td>\n",
              "      <td>twentieth century fox made ton mr moto film ho...</td>\n",
              "    </tr>\n",
              "    <tr>\n",
              "      <th>12499</th>\n",
              "      <td>0</td>\n",
              "      <td>domestic audience see would applaud movie outs...</td>\n",
              "    </tr>\n",
              "  </tbody>\n",
              "</table>\n",
              "<p>25000 rows × 2 columns</p>\n",
              "</div>\n",
              "      <button class=\"colab-df-convert\" onclick=\"convertToInteractive('df-dce9a51c-4eec-454b-82fc-6c509fb2ec33')\"\n",
              "              title=\"Convert this dataframe to an interactive table.\"\n",
              "              style=\"display:none;\">\n",
              "        \n",
              "  <svg xmlns=\"http://www.w3.org/2000/svg\" height=\"24px\"viewBox=\"0 0 24 24\"\n",
              "       width=\"24px\">\n",
              "    <path d=\"M0 0h24v24H0V0z\" fill=\"none\"/>\n",
              "    <path d=\"M18.56 5.44l.94 2.06.94-2.06 2.06-.94-2.06-.94-.94-2.06-.94 2.06-2.06.94zm-11 1L8.5 8.5l.94-2.06 2.06-.94-2.06-.94L8.5 2.5l-.94 2.06-2.06.94zm10 10l.94 2.06.94-2.06 2.06-.94-2.06-.94-.94-2.06-.94 2.06-2.06.94z\"/><path d=\"M17.41 7.96l-1.37-1.37c-.4-.4-.92-.59-1.43-.59-.52 0-1.04.2-1.43.59L10.3 9.45l-7.72 7.72c-.78.78-.78 2.05 0 2.83L4 21.41c.39.39.9.59 1.41.59.51 0 1.02-.2 1.41-.59l7.78-7.78 2.81-2.81c.8-.78.8-2.07 0-2.86zM5.41 20L4 18.59l7.72-7.72 1.47 1.35L5.41 20z\"/>\n",
              "  </svg>\n",
              "      </button>\n",
              "      \n",
              "  <style>\n",
              "    .colab-df-container {\n",
              "      display:flex;\n",
              "      flex-wrap:wrap;\n",
              "      gap: 12px;\n",
              "    }\n",
              "\n",
              "    .colab-df-convert {\n",
              "      background-color: #E8F0FE;\n",
              "      border: none;\n",
              "      border-radius: 50%;\n",
              "      cursor: pointer;\n",
              "      display: none;\n",
              "      fill: #1967D2;\n",
              "      height: 32px;\n",
              "      padding: 0 0 0 0;\n",
              "      width: 32px;\n",
              "    }\n",
              "\n",
              "    .colab-df-convert:hover {\n",
              "      background-color: #E2EBFA;\n",
              "      box-shadow: 0px 1px 2px rgba(60, 64, 67, 0.3), 0px 1px 3px 1px rgba(60, 64, 67, 0.15);\n",
              "      fill: #174EA6;\n",
              "    }\n",
              "\n",
              "    [theme=dark] .colab-df-convert {\n",
              "      background-color: #3B4455;\n",
              "      fill: #D2E3FC;\n",
              "    }\n",
              "\n",
              "    [theme=dark] .colab-df-convert:hover {\n",
              "      background-color: #434B5C;\n",
              "      box-shadow: 0px 1px 3px 1px rgba(0, 0, 0, 0.15);\n",
              "      filter: drop-shadow(0px 1px 2px rgba(0, 0, 0, 0.3));\n",
              "      fill: #FFFFFF;\n",
              "    }\n",
              "  </style>\n",
              "\n",
              "      <script>\n",
              "        const buttonEl =\n",
              "          document.querySelector('#df-dce9a51c-4eec-454b-82fc-6c509fb2ec33 button.colab-df-convert');\n",
              "        buttonEl.style.display =\n",
              "          google.colab.kernel.accessAllowed ? 'block' : 'none';\n",
              "\n",
              "        async function convertToInteractive(key) {\n",
              "          const element = document.querySelector('#df-dce9a51c-4eec-454b-82fc-6c509fb2ec33');\n",
              "          const dataTable =\n",
              "            await google.colab.kernel.invokeFunction('convertToInteractive',\n",
              "                                                     [key], {});\n",
              "          if (!dataTable) return;\n",
              "\n",
              "          const docLinkHtml = 'Like what you see? Visit the ' +\n",
              "            '<a target=\"_blank\" href=https://colab.research.google.com/notebooks/data_table.ipynb>data table notebook</a>'\n",
              "            + ' to learn more about interactive tables.';\n",
              "          element.innerHTML = '';\n",
              "          dataTable['output_type'] = 'display_data';\n",
              "          await google.colab.output.renderOutput(dataTable, element);\n",
              "          const docLink = document.createElement('div');\n",
              "          docLink.innerHTML = docLinkHtml;\n",
              "          element.appendChild(docLink);\n",
              "        }\n",
              "      </script>\n",
              "    </div>\n",
              "  </div>\n",
              "  "
            ]
          },
          "metadata": {},
          "execution_count": 6
        }
      ]
    },
    {
      "cell_type": "markdown",
      "source": [
        "## 1.3 Statistical Analysis"
      ],
      "metadata": {
        "id": "twv4WBoCfB6N"
      }
    },
    {
      "cell_type": "markdown",
      "source": [
        "### 1.3.1 Positive + Negative Distributions"
      ],
      "metadata": {
        "id": "9m_kAp9xkHmf"
      }
    },
    {
      "cell_type": "code",
      "source": [
        "\n",
        "\n",
        "negative = training[training['polarity']==0].shape[0]\n",
        "positive = training[training['polarity']==1].shape[0]\n",
        "x = [\"0\", \"1\"]\n",
        "y = [negative, positive]\n",
        "plt.title(\"Label distribution of IMDB Training Comments\")\n",
        "plt.ylabel('polarity')\n",
        "plt.xlabel('count')\n",
        "colors = ['tab:red','tab:green']\n",
        "plt.barh(x, y, color = colors)\n",
        "\n",
        "for index, value in enumerate(y):\n",
        "    plt.text(value, index, str(value))\n",
        "     "
      ],
      "metadata": {
        "colab": {
          "base_uri": "https://localhost:8080/",
          "height": 472
        },
        "id": "2HrRN6HfX54o",
        "outputId": "c143df67-f6dd-4c96-eaab-da5af2511396"
      },
      "execution_count": null,
      "outputs": [
        {
          "output_type": "display_data",
          "data": {
            "text/plain": [
              "<Figure size 640x480 with 1 Axes>"
            ],
            "image/png": "[encoded data removed]"
          },
          "metadata": {}
        }
      ]
    },
    {
      "cell_type": "code",
      "source": [
        "\n",
        "\n",
        "negative = testing[testing['polarity']==0].shape[0]\n",
        "positive = testing[testing['polarity']==1].shape[0]\n",
        "x = [\"0\", \"1\"]\n",
        "y = [negative, positive]\n",
        "plt.title(\"Label distribution of IMDB Testing Comments\")\n",
        "plt.ylabel('polarity')\n",
        "plt.xlabel('count')\n",
        "colors = ['tab:red','tab:green']\n",
        "plt.barh(x, y, color = colors)\n",
        "\n",
        "for index, value in enumerate(y):\n",
        "    plt.text(value, index, str(value))\n",
        "     "
      ],
      "metadata": {
        "colab": {
          "base_uri": "https://localhost:8080/",
          "height": 472
        },
        "id": "VptbMmTQYe6D",
        "outputId": "c210d6fd-7abc-495f-84a4-44d92e831bac"
      },
      "execution_count": null,
      "outputs": [
        {
          "output_type": "display_data",
          "data": {
            "text/plain": [
              "<Figure size 640x480 with 1 Axes>"
            ],
            "image/png": "[encoded data removed]"
          },
          "metadata": {}
        }
      ]
    },
    {
      "cell_type": "markdown",
      "source": [
        "### 1.3.2 Word Count Before and After Processing"
      ],
      "metadata": {
        "id": "DDtVJN_DYohx"
      }
    },
    {
      "cell_type": "code",
      "source": [
        "\n",
        "x = [\"Pre Processing\", \"Post Processing\"]\n",
        "y = [wordCountTrainingNegPre / 12500, wordCountTrainingNegPost / 12500]\n",
        "plt.title(\"Average Word Count of Training Comments Pre/Post Processing\")\n",
        "plt.ylabel('Post/Pre')\n",
        "plt.xlabel('Avg Word Count')\n",
        "colors = ['tab:blue','tab:orange']\n",
        "plt.barh(x, y, color = colors)\n",
        "\n",
        "for index, value in enumerate(y):\n",
        "    plt.text(value, index, str(value))"
      ],
      "metadata": {
        "colab": {
          "base_uri": "https://localhost:8080/",
          "height": 472
        },
        "id": "HoH6-dsZYs3K",
        "outputId": "02936711-4ced-4db9-cfd6-b534b8d25066"
      },
      "execution_count": null,
      "outputs": [
        {
          "output_type": "display_data",
          "data": {
            "text/plain": [
              "<Figure size 640x480 with 1 Axes>"
            ],
            "image/png": "[encoded data removed]"
          },
          "metadata": {}
        }
      ]
    },
    {
      "cell_type": "code",
      "source": [
        "\n",
        "x = [\"Pre Processing\", \"Post Processing\"]\n",
        "y = [wordCountTestingNegPre / 12500, wordCountTestingNegPost / 12500]\n",
        "plt.title(\"Average Word Count of Testing Comments Pre/Post Processing\")\n",
        "plt.ylabel('Post/Pre')\n",
        "plt.xlabel('Avg Word Count')\n",
        "colors = ['tab:blue','tab:orange']\n",
        "plt.barh(x, y, color = colors)\n",
        "\n",
        "for index, value in enumerate(y):\n",
        "    plt.text(value, index, str(value))"
      ],
      "metadata": {
        "colab": {
          "base_uri": "https://localhost:8080/",
          "height": 472
        },
        "id": "DNjQ_rCfd3uO",
        "outputId": "d3e0bab4-f9f5-4f47-df46-52930d759290"
      },
      "execution_count": null,
      "outputs": [
        {
          "output_type": "display_data",
          "data": {
            "text/plain": [
              "<Figure size 640x480 with 1 Axes>"
            ],
            "image/png": "[encoded data removed]"
          },
          "metadata": {}
        }
      ]
    },
    {
      "cell_type": "markdown",
      "source": [
        "## 1.4 Extracting Features"
      ],
      "metadata": {
        "id": "RqTEXSycfEt2"
      }
    },
    {
      "cell_type": "code",
      "source": [
        "## TRAINING\n",
        "vectorizer_training = CountVectorizer(min_df=0.001)\n",
        "\n",
        "matrix_training = vectorizer_training.fit_transform(training['comment'])\n",
        "\n",
        "matrix_training = matrix_training.toarray()\n",
        "\n",
        "df_training = pd.DataFrame(data = matrix_training, columns = vectorizer_training.get_feature_names_out())\n",
        "\n",
        "## TESTING\n",
        "vectorizer_testing = CountVectorizer(vocabulary=vectorizer_training.vocabulary_, min_df=0.001)\n",
        "\n",
        "matrix_testing = vectorizer_testing.fit_transform(testing['comment'])\n",
        "\n",
        "matrix_testing = matrix_testing.toarray()\n",
        "\n",
        "df_testing = pd.DataFrame(data = matrix_testing, columns = vectorizer_testing.get_feature_names_out())\n",
        "\n"
      ],
      "metadata": {
        "id": "HG9Ip7dygwZS"
      },
      "execution_count": null,
      "outputs": []
    },
    {
      "cell_type": "code",
      "source": [
        "print(matrix_training.shape)\n",
        "print(matrix_testing.shape)"
      ],
      "metadata": {
        "colab": {
          "base_uri": "https://localhost:8080/"
        },
        "id": "8ZTxLMNiYTm2",
        "outputId": "e7950b13-b853-44ab-a34c-72d46b1f7b3d"
      },
      "execution_count": null,
      "outputs": [
        {
          "output_type": "stream",
          "name": "stdout",
          "text": [
            "(25000, 9244)\n",
            "(25000, 9244)\n"
          ]
        }
      ]
    },
    {
      "cell_type": "markdown",
      "source": [
        "# 2. Implement the Model"
      ],
      "metadata": {
        "id": "v6Fz2jt6e7_p"
      }
    },
    {
      "cell_type": "markdown",
      "source": [
        "## 2.1 Naive Bayes Model"
      ],
      "metadata": {
        "id": "_3Z9CYCIdGoI"
      }
    },
    {
      "cell_type": "code",
      "source": [
        "class NaiveBayes(object):\n",
        "    # set alpha to be 1 by default\n",
        "    def __init__(self, alpha):\n",
        "        self.alpha = alpha\n",
        "\n",
        "    def fit(self, X, y):\n",
        "        # count number of data points or samples\n",
        "        count_sample = X.shape[0]\n",
        "\n",
        "        # Check each class and count \n",
        "        classes = [[x for x, t in zip(X, y) if t == c] for c in np.unique(y)]\n",
        "        # Calculate the prior\n",
        "        self.class_log_prior_ = [np.log(len(i) / count_sample) for i in classes]\n",
        "\n",
        "        # calculate count of each word for each class and add self.alpha as smoothing\n",
        "        count = np.array([np.array(i).sum(axis=0) for i in classes]) + self.alpha\n",
        "\n",
        "        # calculate the log probability of each word\n",
        "        self.feature_log_prob_ = np.log(count / count.sum(axis=1)[np.newaxis].T)\n",
        "        return self\n",
        "\n",
        "    def predict_log_proba(self, X):\n",
        "        return [(self.feature_log_prob_ * x).sum(axis=1) + self.class_log_prior_\n",
        "                for x in X]\n",
        "\n",
        "    def predict(self, X):\n",
        "        # maximize probability\n",
        "        return np.argmax(self.predict_log_proba(X), axis=1)\n",
        "\n",
        "# evaluate accuracy\n",
        "def evaluate_acc(y_pred, y_true):\n",
        "  # returns the mean accuracy\n",
        "  count = 0\n",
        "  for i in range(len(y_pred)):\n",
        "      if y_pred.tolist()[i] == y_true.tolist()[i]:\n",
        "          count+=1\n",
        "  return count/len(y_pred) \n",
        "\n",
        "     "
      ],
      "metadata": {
        "id": "_6hrTQxFfL_P"
      },
      "execution_count": null,
      "outputs": []
    },
    {
      "cell_type": "code",
      "source": [
        "modelNB = NaiveBayes(0.1)\n",
        "\n",
        "modelNB.fit(matrix_training, training['polarity'])\n",
        "\n",
        "training_acc_NB = evaluate_acc(modelNB.predict(matrix_training),  training['polarity'])\n",
        "\n",
        "testing_acc_NB = evaluate_acc(modelNB.predict(matrix_testing),  testing['polarity'])\n"
      ],
      "metadata": {
        "id": "Ne0Ce-j_hnaY"
      },
      "execution_count": null,
      "outputs": []
    },
    {
      "cell_type": "code",
      "source": [
        "print(\"Training Accuracy - Multinomial Naive Bayes:\", training_acc_NB)\n",
        "print(\"Testing Accuracy - Multinomial Naive Bayes:\", testing_acc_NB)\n"
      ],
      "metadata": {
        "colab": {
          "base_uri": "https://localhost:8080/"
        },
        "id": "Pm6GnnPG0iBN",
        "outputId": "0580ddf5-7e67-4638-d657-eed25d24a51e"
      },
      "execution_count": null,
      "outputs": [
        {
          "output_type": "stream",
          "name": "stdout",
          "text": [
            "Training Accuracy - Multinomial Naive Bayes: 0.86908\n",
            "Testing Accuracy - Multinomial Naive Bayes: 0.86392\n"
          ]
        }
      ]
    },
    {
      "cell_type": "markdown",
      "source": [
        "# 3. Run Experiments\n",
        "\n",
        "## 3.1 In a single table, compare and report the performance of the Naive Bayes on the IMDB Reviews classification task."
      ],
      "metadata": {
        "id": "3jzurtnDYFd1"
      }
    },
    {
      "cell_type": "code",
      "source": [
        "\n",
        "from prettytable import PrettyTable\n",
        "resultTable = PrettyTable()\n",
        "resultTable.title = \"Best performance of Naive Bayes and BERT on testing datasets\"\n",
        "resultTable.field_names = [\"Model\", \"Polarity\"]\n",
        "\n",
        "\n",
        "resultTable.add_row(['Naive Bayes - Training Accuracy', training_acc_NB])\n",
        "resultTable.add_row(['Naive Bayes - Testing Accuracy', testing_acc_NB])\n",
        "print(resultTable)"
      ],
      "metadata": {
        "id": "PNZe9ezYYMCv",
        "colab": {
          "base_uri": "https://localhost:8080/"
        },
        "outputId": "c538bba1-098c-4298-899e-1232bca9798f"
      },
      "execution_count": null,
      "outputs": [
        {
          "output_type": "stream",
          "name": "stdout",
          "text": [
            "+---------------------------------+----------+\n",
            "|              Model              | Polarity |\n",
            "+---------------------------------+----------+\n",
            "| Naive Bayes - Training Accuracy | 0.86908  |\n",
            "|  Naive Bayes - Testing Accuracy | 0.86392  |\n",
            "+---------------------------------+----------+\n"
          ]
        }
      ]
    },
    {
      "cell_type": "markdown",
      "source": [
        "# 3.3 Comparing accuracy as a function of dataset size\n",
        "\n",
        "## 3.3.1 Naive Bayes"
      ],
      "metadata": {
        "id": "NZnC7rj_Ya2P"
      }
    },
    {
      "cell_type": "code",
      "source": [
        "from sklearn.model_selection import train_test_split\n",
        "\n",
        "\n",
        "def compare_naive_bayes_acc(x_train, y_train, x_test, y_test):\n",
        "  training_size_list = [0.2, 0.4, 0.6, 0.8]\n",
        "  acc_list = []\n",
        " \n",
        "  for training_size in training_size_list:\n",
        "    part_x_train, _, part_y_train, _ = \\\n",
        "      train_test_split(\n",
        "          x_train,\n",
        "          y_train,\n",
        "          train_size=training_size,\n",
        "          random_state=42,\n",
        "          shuffle=True\n",
        "        )\n",
        "    \n",
        "    model = NaiveBayes(alpha=0.1)\n",
        "    model.fit(part_x_train, part_y_train)\n",
        "\n",
        "    y_pred = model.predict(x_test)\n",
        "    acc = evaluate_acc(y_pred, y_test)\n",
        "    acc_list.append(acc)\n",
        "    print(\"Acc with training_size (%s) = %s\\n\" % (training_size, acc))\n",
        "  training_size_list.append(1.0)\n",
        "  model = NaiveBayes(0.1)\n",
        "  model.fit(x_train, y_train)\n",
        "  y_pred = model.predict(x_test)\n",
        "  acc = evaluate_acc(y_pred, y_test)\n",
        "  acc_list.append(acc)\n",
        "  print(\"Acc with training_size (%s) = %s\\n\" % (1, acc))\n",
        "  best_acc  = max(acc_list)\n",
        "  idx = acc_list.index(best_acc)\n",
        "\n",
        "  print(\"Best accuracy training_size with %s = %s\\n\" % (training_size_list[idx], best_acc))\n",
        "  return acc_list\n",
        "     "
      ],
      "metadata": {
        "id": "S6GpeAGaYjyT"
      },
      "execution_count": null,
      "outputs": []
    },
    {
      "cell_type": "code",
      "source": [
        "NB_accList_test1 = compare_naive_bayes_acc(matrix_training, training['polarity'], matrix_testing, testing['polarity'])\n"
      ],
      "metadata": {
        "colab": {
          "base_uri": "https://localhost:8080/"
        },
        "id": "b6K5v1oxSqZ-",
        "outputId": "07c4e010-d4be-4650-c3af-ba8a734fac2c"
      },
      "execution_count": null,
      "outputs": [
        {
          "output_type": "stream",
          "name": "stdout",
          "text": [
            "Acc with training_size (0.2) = 0.85192\n",
            "\n",
            "Acc with training_size (0.4) = 0.86192\n",
            "\n",
            "Acc with training_size (0.6) = 0.8636\n",
            "\n",
            "Acc with training_size (0.8) = 0.86376\n",
            "\n",
            "Acc with training_size (1) = 0.86392\n",
            "\n",
            "Best accuracy training_size with 1.0 = 0.86392\n",
            "\n"
          ]
        }
      ]
    },
    {
      "cell_type": "code",
      "source": [
        "\n",
        "\n",
        "training_size_list = [0.2, 0.4, 0.6, 0.8, 1.0]\n",
        "# plot \n",
        "plt.plot(training_size_list, NB_accList_test1, label =\"Training Sets\")\n",
        "plt.xlabel('Training dataset size')\n",
        "plt.ylabel('Accuracy')\n",
        "plt.title(\"Naive Bayes Testing Accuracy\")\n",
        "plt.legend()\n",
        "plt.figure()"
      ],
      "metadata": {
        "colab": {
          "base_uri": "https://localhost:8080/",
          "height": 507
        },
        "id": "K5Ioi2VAUKtM",
        "outputId": "227d9cac-42e2-4f41-9672-d805aaf52a1b"
      },
      "execution_count": null,
      "outputs": [
        {
          "output_type": "execute_result",
          "data": {
            "text/plain": [
              "<Figure size 640x480 with 0 Axes>"
            ]
          },
          "metadata": {},
          "execution_count": 19
        },
        {
          "output_type": "display_data",
          "data": {
            "text/plain": [
              "<Figure size 640x480 with 1 Axes>"
            ],
            "image/png": "[encoded data removed]"
          },
          "metadata": {}
        },
        {
          "output_type": "display_data",
          "data": {
            "text/plain": [
              "<Figure size 640x480 with 0 Axes>"
            ]
          },
          "metadata": {}
        }
      ]
    },
    {
      "cell_type": "markdown",
      "source": [
        "## 3.4 Count Vectorizer vs TF-IDF Vectorizer"
      ],
      "metadata": {
        "id": "76MwEW18aIvO"
      }
    },
    {
      "cell_type": "code",
      "source": [
        "from sklearn.feature_extraction.text import TfidfVectorizer\n",
        "\n",
        "tfid_vect_train = TfidfVectorizer(min_df=0.001)\n",
        "\n",
        "tfid_matrix_training = tfid_vect_train.fit_transform(training['comment'])\n",
        "tfid_matrix_training = tfid_matrix_training.toarray()\n",
        "\n",
        "tfid_vect_test = TfidfVectorizer(vocabulary=tfid_vect_train.vocabulary_, min_df=0.001)\n",
        "\n",
        "tfid_matrix_testing = tfid_vect_test.fit_transform(training['comment'])\n",
        "tfid_matrix_testing = tfid_matrix_testing.toarray()\n",
        "\n",
        "TFIDmodelNB = NaiveBayes(0.1)\n",
        "\n",
        "TFIDmodelNB.fit(tfid_matrix_training, training['polarity'])\n",
        "\n",
        "training_acc_NB_TFID = evaluate_acc(TFIDmodelNB.predict(tfid_matrix_training),  training['polarity'])\n",
        "\n",
        "testing_acc_NB_TFID = evaluate_acc(TFIDmodelNB.predict(tfid_matrix_testing),  testing['polarity'])\n"
      ],
      "metadata": {
        "id": "MJAKubalaLoo"
      },
      "execution_count": null,
      "outputs": []
    },
    {
      "cell_type": "code",
      "source": [
        "\n",
        "from prettytable import PrettyTable\n",
        "resultTable = PrettyTable()\n",
        "resultTable.title = \"Best performance of Naive Bayes and BERT on testing datasets\"\n",
        "resultTable.field_names = [\"Model\", \"Polarity\"]\n",
        "\n",
        "\n",
        "resultTable.add_row(['Naive Bayes CountVectorizer - Training Accuracy', training_acc_NB])\n",
        "resultTable.add_row(['Naive Bayes CountVectorizer - Testing Accuracy', testing_acc_NB])\n",
        "resultTable.add_row(['Naive Bayes TFID - Training Accuracy', training_acc_NB_TFID])\n",
        "resultTable.add_row(['Naive Bayes TFID - Testing Accuracy', training_acc_NB_TFID])\n",
        "print(resultTable)"
      ],
      "metadata": {
        "colab": {
          "base_uri": "https://localhost:8080/"
        },
        "id": "fMiI2ViFPVM9",
        "outputId": "0968a1cf-7be0-4396-aae5-e2e7b11566bf"
      },
      "execution_count": null,
      "outputs": [
        {
          "output_type": "stream",
          "name": "stdout",
          "text": [
            "+-------------------------------------------------+----------+\n",
            "|                      Model                      | Polarity |\n",
            "+-------------------------------------------------+----------+\n",
            "| Naive Bayes CountVectorizer - Training Accuracy | 0.86908  |\n",
            "|  Naive Bayes CountVectorizer - Testing Accuracy | 0.86392  |\n",
            "|       Naive Bayes TFID - Training Accuracy      | 0.88072  |\n",
            "|       Naive Bayes TFID - Testing Accuracy       | 0.88072  |\n",
            "+-------------------------------------------------+----------+\n"
          ]
        }
      ]
    },
    {
      "cell_type": "markdown",
      "source": [
        "# 3.5 The effect of min_df on accuracy\n"
      ],
      "metadata": {
        "id": "V3YHXrEtY8U3"
      }
    },
    {
      "cell_type": "code",
      "source": [
        "lstOfMinDF = [0.5, 0.1, 0.05, 0.01, 0.005, 0.001]\n",
        "lstOfTrainAcc = []\n",
        "lstOfTestAcc = []\n",
        "\n",
        "for minDF in lstOfMinDF:\n",
        "  print(minDF)\n",
        "\n",
        "  # TRAINING\n",
        "  vectorizer_training = CountVectorizer(min_df=minDF)\n",
        "  matrix_training = vectorizer_training.fit_transform(training['comment'])\n",
        "  matrix_training = matrix_training.toarray()\n",
        "\n",
        "  # TESTING\n",
        "  vectorizer_testing = CountVectorizer(vocabulary=vectorizer_training.vocabulary_, min_df=minDF)\n",
        "  matrix_testing = vectorizer_testing.fit_transform(testing['comment'])\n",
        "  matrix_testing = matrix_testing.toarray()\n",
        "\n",
        "\n",
        "  # GET ACCURACY\n",
        "  modelNB = NaiveBayes(0.1)\n",
        "\n",
        "  modelNB.fit(matrix_training, training['polarity'])\n",
        "\n",
        "  training_acc_NB = evaluate_acc(modelNB.predict(matrix_training),  training['polarity'])\n",
        "\n",
        "  testing_acc_NB = evaluate_acc(modelNB.predict(matrix_testing),  testing['polarity'])\n",
        "\n",
        "  # APPEND DATA\n",
        "  lstOfTrainAcc.append(training_acc_NB)\n",
        "  lstOfTestAcc.append(testing_acc_NB)\n",
        "\n"
      ],
      "metadata": {
        "colab": {
          "base_uri": "https://localhost:8080/"
        },
        "id": "CyPOAEptNRlX",
        "outputId": "995f7b3a-f026-4c66-96db-5faf62b76908"
      },
      "execution_count": null,
      "outputs": [
        {
          "output_type": "stream",
          "name": "stdout",
          "text": [
            "0.5\n",
            "0.1\n",
            "0.05\n",
            "0.01\n",
            "0.005\n",
            "0.001\n"
          ]
        }
      ]
    },
    {
      "cell_type": "code",
      "source": [
        "print(lstOfTrainAcc)\n",
        "print(lstOfTestAcc)\n",
        "\n",
        "plt.title(\"Accuracy as a Function of MinDF\")\n",
        "plt.plot(lstOfMinDF, lstOfTrainAcc , '-', label='Training Accuracy')\n",
        "plt.plot(lstOfMinDF, lstOfTestAcc , '-', label='Testing Accuracy')\n",
        "plt.legend()\n",
        "plt.xlabel('Min DF Value')\n",
        "plt.ylabel('Accuracy')\n",
        "plt.show() "
      ],
      "metadata": {
        "id": "tW9-L9TQN4Ba",
        "colab": {
          "base_uri": "https://localhost:8080/",
          "height": 507
        },
        "outputId": "c1b834d4-8bcd-41d3-ac8a-af5b432246fe"
      },
      "execution_count": null,
      "outputs": [
        {
          "output_type": "stream",
          "name": "stdout",
          "text": [
            "[0.54304, 0.7308, 0.79996, 0.8446, 0.85184, 0.86908]\n",
            "[0.54384, 0.73428, 0.8036, 0.8468, 0.85288, 0.86392]\n"
          ]
        },
        {
          "output_type": "display_data",
          "data": {
            "text/plain": [
              "<Figure size 640x480 with 1 Axes>"
            ],
            "image/png": "[encoded data removed]"
          },
          "metadata": {}
        }
      ]
    },
    {
      "cell_type": "markdown",
      "source": [
        "# 3.6 Gaussian Naive Bayes"
      ],
      "metadata": {
        "id": "T6I4hmf3bj_Q"
      }
    },
    {
      "cell_type": "code",
      "source": [
        "\n",
        "class GaussianNaiveBayes(object):\n",
        "    def fit(self, X, y):\n",
        "        # Store the mean and standard deviation for each feature in each class\n",
        "        self.class_mean_ = []\n",
        "        self.class_std_ = []\n",
        "        self.class_prior_ = []\n",
        "        unique_classes = np.unique(y)\n",
        "        \n",
        "        for c in unique_classes:\n",
        "            X_c = X[y == c]\n",
        "            mean = X_c.mean(axis=0)\n",
        "            std = X_c.std(axis=0)\n",
        "            self.class_mean_.append(mean)\n",
        "            self.class_std_.append(std)\n",
        "            self.class_prior_.append(np.log(len(X_c) / len(X)))\n",
        "\n",
        "    def predict_log_proba(self, X):\n",
        "        # Calculate the log probability of each class for each sample\n",
        "        log_probs = []\n",
        "        for i in range(len(X)):\n",
        "            sample_log_probs = []\n",
        "            for j in range(len(self.class_mean_)):\n",
        "                mean = self.class_mean_[j]\n",
        "                std = self.class_std_[j]\n",
        "                prior = self.class_prior_[j]\n",
        "                log_prob = np.sum(np.log((1 / (np.sqrt(2 * np.pi) * std)) *\n",
        "                                       np.exp(-(X[i] - mean) ** 2 / (2 * std ** 2))))\n",
        "                sample_log_probs.append(prior + log_prob)\n",
        "            log_probs.append(sample_log_probs)\n",
        "        return np.array(log_probs)\n",
        "\n",
        "    def predict(self, X):\n",
        "        # Maximize probability and predict class\n",
        "        log_probs = self.predict_log_proba(X)\n",
        "        return np.argmax(log_probs, axis=1)\n"
      ],
      "metadata": {
        "id": "y4Lsgzl1bjYM"
      },
      "execution_count": null,
      "outputs": []
    },
    {
      "cell_type": "code",
      "source": [
        "modelGaussian = GaussianNaiveBayes()\n",
        "\n",
        "modelGaussian.fit(matrix_training, training['polarity'])\n",
        "\n",
        "training_acc_GNB = evaluate_acc(modelGaussian.predict(matrix_training),  training['polarity'])\n",
        "\n",
        "testing_acc_GNB = evaluate_acc(modelGaussian.predict(matrix_testing),  testing['polarity'])\n"
      ],
      "metadata": {
        "id": "tgRobkcdbx-Q"
      },
      "execution_count": null,
      "outputs": []
    },
    {
      "cell_type": "code",
      "source": [
        "# print(\"Training Accuracy - Multinomial Naive Bayes:\", training_acc_NB)\n",
        "# print(\"Testing Accuracy - Multinomial Naive Bayes:\", testing_acc_NB)\n",
        "print(\"Training Accuracy - Gaussian Naive Bayes:\", training_acc_GNB)\n",
        "print(\"Testing Accuracy - Gaussian Naive Bayes:\", testing_acc_GNB)"
      ],
      "metadata": {
        "id": "lPyih-GCb53b"
      },
      "execution_count": null,
      "outputs": []
    }
  ]
}
